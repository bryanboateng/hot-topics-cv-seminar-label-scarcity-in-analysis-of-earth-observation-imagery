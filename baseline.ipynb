{
  "cells": [
    {
      "cell_type": "code",
      "execution_count": 23,
      "id": "7960632c",
      "metadata": {
        "pycharm": {
          "name": "#%%\n"
        },
        "id": "7960632c"
      },
      "outputs": [],
      "source": [
        "import matplotlib\n",
        "import sklearn\n",
        "from sklearn import metrics\n",
        "import time\n",
        "import torch\n",
        "import torchvision"
      ]
    },
    {
      "cell_type": "code",
      "source": [
        "from google.colab import drive\n",
        "drive.mount('/content/drive')"
      ],
      "metadata": {
        "id": "sDCxBfAw6Q3U",
        "outputId": "ad3ea182-b5a8-4b4e-b262-76c1058494a2",
        "colab": {
          "base_uri": "https://localhost:8080/"
        }
      },
      "id": "sDCxBfAw6Q3U",
      "execution_count": 9,
      "outputs": [
        {
          "output_type": "stream",
          "name": "stdout",
          "text": [
            "Drive already mounted at /content/drive; to attempt to forcibly remount, call drive.mount(\"/content/drive\", force_remount=True).\n"
          ]
        }
      ]
    },
    {
      "cell_type": "code",
      "execution_count": 10,
      "id": "d3af808e",
      "metadata": {
        "pycharm": {
          "name": "#%%\n"
        },
        "id": "d3af808e",
        "outputId": "e1c0cf8d-c77b-4328-c149-08039f6657ae",
        "colab": {
          "base_uri": "https://localhost:8080/"
        }
      },
      "outputs": [
        {
          "output_type": "stream",
          "name": "stdout",
          "text": [
            "cuda:0\n"
          ]
        }
      ],
      "source": [
        "device = torch.device(\"cuda:0\" if torch.cuda.is_available() else \"cpu\")\n",
        "print(device)"
      ]
    },
    {
      "cell_type": "code",
      "execution_count": 19,
      "id": "4e888e33",
      "metadata": {
        "pycharm": {
          "name": "#%%\n"
        },
        "id": "4e888e33"
      },
      "outputs": [],
      "source": [
        "training_data_directory = \"/content/drive/MyDrive/HTCV/grouped-data/train/\"\n",
        "testing_data_directory = \"/content/drive/MyDrive/HTCV/grouped-data/test/\"\n",
        "model_name = \"/content/drive/MyDrive/HTCV//resnet_18.pth\""
      ]
    },
    {
      "cell_type": "code",
      "execution_count": 12,
      "id": "62fd7e9a",
      "metadata": {
        "pycharm": {
          "name": "#%%\n"
        },
        "id": "62fd7e9a",
        "outputId": "66831b23-0165-4476-e4ba-b7daf7f0fd50",
        "colab": {
          "base_uri": "https://localhost:8080/"
        }
      },
      "outputs": [
        {
          "output_type": "stream",
          "name": "stderr",
          "text": [
            "/usr/local/lib/python3.10/dist-packages/torch/utils/data/dataloader.py:560: UserWarning: This DataLoader will create 8 worker processes in total. Our suggested max number of worker in current system is 2, which is smaller than what this DataLoader is going to create. Please be aware that excessive worker creation might get DataLoader running slow or even freeze, lower the worker number to avoid potential slowness/freeze if necessary.\n",
            "  warnings.warn(_create_warning_msg(\n"
          ]
        }
      ],
      "source": [
        "training_data_loader = torch.utils.data.DataLoader(\n",
        "    torchvision.datasets.ImageFolder(\n",
        "        training_data_directory,\n",
        "        torchvision.transforms.Compose(\n",
        "            [\n",
        "                torchvision.transforms.Resize((224, 224)),\n",
        "                torchvision.transforms.ToTensor(),\n",
        "                torchvision.transforms.Normalize(\n",
        "                    [0.485, 0.456, 0.406], [0.229, 0.224, 0.225]\n",
        "                ),\n",
        "            ]\n",
        "        ),\n",
        "    ),\n",
        "    batch_size=12,\n",
        "    shuffle=True,\n",
        "    num_workers=8,\n",
        ")\n",
        "\n",
        "testing_data = torchvision.datasets.ImageFolder(\n",
        "    testing_data_directory,\n",
        "    torchvision.transforms.Compose(\n",
        "        [\n",
        "            torchvision.transforms.Resize((224, 224)),\n",
        "            torchvision.transforms.ToTensor(),\n",
        "            torchvision.transforms.Normalize(\n",
        "                [0.485, 0.456, 0.406], [0.229, 0.224, 0.225]\n",
        "            ),\n",
        "        ]\n",
        "    ),\n",
        ")\n",
        "testing_data_loader = torch.utils.data.DataLoader(\n",
        "    testing_data,\n",
        "    batch_size=12,\n",
        "    shuffle=False,\n",
        "    num_workers=8,\n",
        ")"
      ]
    },
    {
      "cell_type": "code",
      "execution_count": 13,
      "id": "65620aff",
      "metadata": {
        "pycharm": {
          "name": "#%%\n"
        },
        "id": "65620aff",
        "outputId": "91e35bc4-70cf-4517-eadd-696c76d6c308",
        "colab": {
          "base_uri": "https://localhost:8080/"
        }
      },
      "outputs": [
        {
          "output_type": "stream",
          "name": "stdout",
          "text": [
            "Training dataset size: 2799\n",
            "Testing dataset size: 933\n",
            "Class names: ['0', '1', '2', '3', '4']\n"
          ]
        }
      ],
      "source": [
        "print(\"Training dataset size:\", len(training_data_loader.dataset))\n",
        "print(\"Testing dataset size:\", len(testing_data_loader.dataset))\n",
        "print(\"Class names:\", training_data_loader.dataset.classes)"
      ]
    },
    {
      "cell_type": "code",
      "execution_count": 14,
      "id": "93265168",
      "metadata": {
        "pycharm": {
          "name": "#%%\n"
        },
        "id": "93265168",
        "outputId": "eefb748b-6faa-4992-d911-6e3e4b5101f6",
        "colab": {
          "base_uri": "https://localhost:8080/"
        }
      },
      "outputs": [
        {
          "output_type": "stream",
          "name": "stderr",
          "text": [
            "Downloading: \"https://download.pytorch.org/models/resnet18-f37072fd.pth\" to /root/.cache/torch/hub/checkpoints/resnet18-f37072fd.pth\n",
            "100%|██████████| 44.7M/44.7M [00:00<00:00, 367MB/s]\n"
          ]
        }
      ],
      "source": [
        "model = torchvision.models.resnet18(weights=torchvision.models.ResNet18_Weights.DEFAULT)\n",
        "input_feature_count = model.fc.in_features\n",
        "output_feature_count = 5\n",
        "model.fc = torch.nn.Linear(input_feature_count, output_feature_count)\n",
        "model = model.to(device)\n",
        "criterion = torch.nn.CrossEntropyLoss()\n",
        "optimizer = torch.optim.SGD(model.parameters(), lr=0.001, momentum=0.9)"
      ]
    },
    {
      "cell_type": "code",
      "execution_count": 15,
      "id": "1e3c9452",
      "metadata": {
        "pycharm": {
          "name": "#%%\n"
        },
        "id": "1e3c9452",
        "outputId": "d62e0c72-68fc-4658-ef81-b6b9a688ee85",
        "colab": {
          "base_uri": "https://localhost:8080/"
        }
      },
      "outputs": [
        {
          "output_type": "stream",
          "name": "stdout",
          "text": [
            "Epoch 0 running.\n",
            "    Training Epoch 0 done. Loss: 1.11, Accuracy: 55.73%, Phase Duration: 5.0min, 42.58s, Total Duration: 5.0min, 42.58s\n",
            "    Testing Epoch 0 done. Loss: 0.85, Accuracy: 67.20%, Phase Duration: 1.0min, 54.47s, Total Duration: 7.0min, 37.05s\n",
            "Epoch 0 done. Epoch Duration: 7.0min, 37.05s, Total Duration: 7.0min, 37.05s\n",
            "--------------------------------------------\n",
            "Epoch 1 running.\n",
            "    Training Epoch 1 done. Loss: 0.76, Accuracy: 71.06%, Phase Duration: 1.0min, 48.69s, Total Duration: 9.0min, 25.74s\n",
            "    Testing Epoch 1 done. Loss: 0.89, Accuracy: 66.99%, Phase Duration: 34.79s, Total Duration: 10.0min, 0.53s\n",
            "Epoch 1 done. Epoch Duration: 2.0min, 23.48s, Total Duration: 10.0min, 0.54s\n",
            "--------------------------------------------\n"
          ]
        }
      ],
      "source": [
        "def format_duration(seconds):\n",
        "    # Calculate the time components\n",
        "    components = [\n",
        "        (\"w\", seconds // 604800),  # 1 week is 604800 seconds\n",
        "        (\"d\", seconds // 86400 % 7),  # 1 day is 86400 seconds\n",
        "        (\"h\", seconds // 3600 % 24),  # 1 hour is 3600 seconds\n",
        "        (\"min\", seconds // 60 % 60),  # 1 minute is 60 seconds\n",
        "        (\"s\", round(seconds % 60, 2)),\n",
        "    ]\n",
        "\n",
        "    # Only include non-zero components\n",
        "    components = [(label, value) for label, value in components if value > 0]\n",
        "\n",
        "    # Format the string\n",
        "    return \", \".join(f\"{value}{label}\" for label, value in components)\n",
        "\n",
        "\n",
        "def print_phase_info(is_training, total_loss, correct_prediction_count):\n",
        "    dataset_length = len(\n",
        "        training_data_loader.dataset if is_training else testing_data_loader.dataset\n",
        "    )\n",
        "    print(\n",
        "        \"    {} Epoch {} done. Loss: {:.2f}, Accuracy: {:.2f}%, Phase Duration: {}, Total Duration: {}\".format(\n",
        "            \"Training\" if is_training else \"Testing\",\n",
        "            epoch,\n",
        "            total_loss / dataset_length,\n",
        "            (correct_prediction_count / dataset_length) * 100.0,\n",
        "            format_duration(time.time() - (training_start_time if is_training else testing_start_time)),\n",
        "            format_duration(time.time() - start_time),\n",
        "        )\n",
        "    )\n",
        "\n",
        "\n",
        "epoch_count = 2\n",
        "start_time = time.time()\n",
        "for epoch in range(epoch_count):\n",
        "    epoch_start_time = time.time()\n",
        "    print(\"Epoch {} running.\".format(epoch))\n",
        "    \"\"\" Training Phase \"\"\"\n",
        "    training_start_time = time.time()\n",
        "    model.train()\n",
        "    total_loss = 0.0\n",
        "    correct_prediction_count = 0\n",
        "    for inputs, targets in training_data_loader:\n",
        "        inputs = inputs.to(device)\n",
        "        targets = targets.to(device)\n",
        "\n",
        "        # Foward pass\n",
        "        outputs = model(inputs)\n",
        "        _, predictions = torch.max(outputs, 1)\n",
        "        loss = criterion(outputs, targets)\n",
        "\n",
        "        # Back-propagation\n",
        "        optimizer.zero_grad()\n",
        "        loss.backward()\n",
        "        optimizer.step()\n",
        "\n",
        "        total_loss += loss.item() * inputs.size(0)\n",
        "        correct_prediction_count += torch.sum(predictions == targets.data)\n",
        "    print_phase_info(True, total_loss, correct_prediction_count)\n",
        "\n",
        "    \"\"\" Testing Phase \"\"\"\n",
        "    testing_start_time = time.time()\n",
        "    model.eval()\n",
        "    with torch.no_grad():\n",
        "        total_loss = 0.0\n",
        "        correct_prediction_count = 0\n",
        "        for inputs, targets in testing_data_loader:\n",
        "            inputs = inputs.to(device)\n",
        "            targets = targets.to(device)\n",
        "\n",
        "            outputs = model(inputs)\n",
        "            _, predictions = torch.max(outputs, 1)\n",
        "            loss = criterion(outputs, targets)\n",
        "\n",
        "            total_loss += loss.item() * inputs.size(0)\n",
        "            correct_prediction_count += torch.sum(predictions == targets.data)\n",
        "        print_phase_info(False, total_loss, correct_prediction_count)\n",
        "\n",
        "    print(\n",
        "        \"Epoch {} done. Epoch Duration: {}, Total Duration: {}\".format(\n",
        "            epoch,\n",
        "            format_duration(time.time() - epoch_start_time),\n",
        "            format_duration(time.time() - start_time),\n",
        "        )\n",
        "    )\n",
        "    print(\"--------------------------------------------\")"
      ]
    },
    {
      "cell_type": "code",
      "execution_count": 20,
      "id": "ab3e2935",
      "metadata": {
        "pycharm": {
          "name": "#%%\n"
        },
        "id": "ab3e2935"
      },
      "outputs": [],
      "source": [
        "torch.save(model.state_dict(), model_name)"
      ]
    },
    {
      "cell_type": "code",
      "execution_count": 21,
      "id": "0ec593ed",
      "metadata": {
        "pycharm": {
          "name": "#%%\n"
        },
        "id": "0ec593ed"
      },
      "outputs": [],
      "source": [
        "model = torchvision.models.resnet18(weights=torchvision.models.ResNet18_Weights.DEFAULT)\n",
        "input_feature_count = model.fc.in_features\n",
        "output_feature_count = 5\n",
        "model.fc = torch.nn.Linear(input_feature_count, output_feature_count)\n",
        "model.load_state_dict(torch.load(model_name))\n",
        "model = model.to(device)"
      ]
    },
    {
      "cell_type": "code",
      "execution_count": 25,
      "id": "8e65e749",
      "metadata": {
        "pycharm": {
          "name": "#%%\n"
        },
        "id": "8e65e749",
        "outputId": "7987c25b-1b2b-4ea5-8a27-8d189aeed651",
        "colab": {
          "base_uri": "https://localhost:8080/",
          "height": 506
        }
      },
      "outputs": [
        {
          "output_type": "display_data",
          "data": {
            "text/plain": [
              "<Figure size 640x480 with 2 Axes>"
            ],
            "image/png": "[encoded data removed]"
          },
          "metadata": {}
        },
        {
          "output_type": "stream",
          "name": "stdout",
          "text": [
            "Overall accuracy: 66.99%\n",
            "Average accuracy: 56.33%\n"
          ]
        }
      ],
      "source": [
        "model.eval()\n",
        "with torch.no_grad():\n",
        "    inputs, targets = next(\n",
        "        iter(\n",
        "            torch.utils.data.DataLoader(\n",
        "                testing_data,\n",
        "                batch_size=len(testing_data),\n",
        "            )\n",
        "        )\n",
        "    )\n",
        "    inputs = inputs.to(device)\n",
        "    outputs = model(inputs)\n",
        "    _, predictions = torch.max(outputs, 1)\n",
        "    confusion_matrix = metrics.confusion_matrix(targets, predictions.cpu())\n",
        "    overall_accuracy = confusion_matrix.trace() / confusion_matrix.sum()\n",
        "    average_accuracy = (\n",
        "        confusion_matrix.diagonal() / confusion_matrix.sum(axis=1)\n",
        "    ).mean()\n",
        "    confusion_matrix_display = metrics.ConfusionMatrixDisplay(\n",
        "        confusion_matrix=confusion_matrix\n",
        "    )\n",
        "    confusion_matrix_display.plot()\n",
        "    matplotlib.pyplot.title(\"Confusion Matrix\")\n",
        "    matplotlib.pyplot.show()\n",
        "    print(\"Overall accuracy: {:.2f}%\".format(overall_accuracy * 100))\n",
        "    print(\"Average accuracy: {:.2f}%\".format(average_accuracy * 100))"
      ]
    },
    {
      "cell_type": "code",
      "source": [],
      "metadata": {
        "id": "i3K2mhvf-dzn"
      },
      "id": "i3K2mhvf-dzn",
      "execution_count": null,
      "outputs": []
    }
  ],
  "metadata": {
    "kernelspec": {
      "display_name": "Python 3 (ipykernel)",
      "language": "python",
      "name": "python3"
    },
    "language_info": {
      "codemirror_mode": {
        "name": "ipython",
        "version": 3
      },
      "file_extension": ".py",
      "mimetype": "text/x-python",
      "name": "python",
      "nbconvert_exporter": "python",
      "pygments_lexer": "ipython3",
      "version": "3.11.3"
    },
    "colab": {
      "provenance": [],
      "toc_visible": true,
      "gpuType": "T4"
    },
    "accelerator": "GPU",
    "gpuClass": "standard"
  },
  "nbformat": 4,
  "nbformat_minor": 5
}