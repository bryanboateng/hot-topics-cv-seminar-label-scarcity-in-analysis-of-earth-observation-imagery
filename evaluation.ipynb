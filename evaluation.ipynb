{
	"cells": [
		{
			"attachments": {},
			"cell_type": "markdown",
			"id": "511a1806",
			"metadata": {},
			"source": [
				"## Imports"
			]
		},
		{
			"cell_type": "code",
			"execution_count": null,
			"id": "7960632c",
			"metadata": {
				"collapsed": false,
				"pycharm": {
					"name": "#%%\n"
				}
			},
			"outputs": [],
			"source": [
				"import os\n",
				"from sklearn import metrics\n",
				"import torch\n",
				"import torchvision"
			]
		},
		{
			"attachments": {},
			"cell_type": "markdown",
			"id": "56bc6de5",
			"metadata": {},
			"source": [
				"## Device"
			]
		},
		{
			"cell_type": "code",
			"execution_count": null,
			"id": "d3af808e",
			"metadata": {
				"collapsed": false,
				"pycharm": {
					"name": "#%%\n"
				}
			},
			"outputs": [],
			"source": [
				"device = torch.device(\"cuda:0\" if torch.cuda.is_available() else \"cpu\")\n",
				"print(device)"
			]
		},
		{
			"attachments": {},
			"cell_type": "markdown",
			"id": "5a7c9595",
			"metadata": {},
			"source": [
				"## Paths"
			]
		},
		{
			"cell_type": "code",
			"execution_count": null,
			"id": "4e888e33",
			"metadata": {
				"collapsed": false,
				"pycharm": {
					"name": "#%%\n"
				}
			},
			"outputs": [],
			"source": [
				"testing_data_directory = \"../grouped-data/test/\"\n",
				"model_directory = \"../models/\""
			]
		},
		{
			"attachments": {},
			"cell_type": "markdown",
			"id": "27e331e4",
			"metadata": {},
			"source": [
				"## Load Data"
			]
		},
		{
			"cell_type": "code",
			"execution_count": null,
			"id": "62fd7e9a",
			"metadata": {
				"collapsed": false,
				"pycharm": {
					"name": "#%%\n"
				}
			},
			"outputs": [],
			"source": [
				"testing_data = torchvision.datasets.ImageFolder(\n",
				"    testing_data_directory,\n",
				"    torchvision.transforms.Compose(\n",
				"        [\n",
				"            torchvision.transforms.Resize((224, 224)),\n",
				"            torchvision.transforms.ToTensor(),\n",
				"            torchvision.transforms.Normalize(\n",
				"                [0.485, 0.456, 0.406], [0.229, 0.224, 0.225]\n",
				"            ),\n",
				"        ]\n",
				"    ),\n",
				")\n",
				"print(\"Testing dataset size:\", len(testing_data))"
			]
		},
		{
			"attachments": {},
			"cell_type": "markdown",
			"id": "c3f0ee81",
			"metadata": {},
			"source": [
				"## Create Confusion Matrix"
			]
		},
		{
			"cell_type": "code",
			"execution_count": null,
			"id": "0ec593ed",
			"metadata": {
				"collapsed": false,
				"pycharm": {
					"name": "#%%\n"
				}
			},
			"outputs": [],
			"source": [
				"confusion_matrices = []\n",
				"for i, model_filename in enumerate(os.listdir(model_directory)):\n",
				"    model = torchvision.models.resnet18(weights=torchvision.models.ResNet18_Weights.DEFAULT)\n",
				"    input_feature_count = model.fc.in_features\n",
				"    output_feature_count = 5\n",
				"    model.fc = torch.nn.Linear(input_feature_count, output_feature_count)\n",
				"    model.load_state_dict(torch.load(os.path.join(model_directory, model_filename)))\n",
				"    model = model.to(device)\n",
				"    model.eval()\n",
				"    with torch.no_grad():\n",
				"        inputs, targets = next(\n",
				"            iter(\n",
				"                torch.utils.data.DataLoader(\n",
				"                    testing_data,\n",
				"                    batch_size=len(testing_data),\n",
				"                )\n",
				"            )\n",
				"        )\n",
				"        inputs = inputs.to(device)\n",
				"        outputs = model(inputs)\n",
				"        _, predictions = torch.max(outputs, 1)\n",
				"        confusion_matrix = metrics.confusion_matrix(targets, predictions.cpu())\n",
				"        confusion_matrices.append(confusion_matrix)"
			]
		},
		{
			"attachments": {},
			"cell_type": "markdown",
			"id": "67f18aff",
			"metadata": {},
			"source": [
				"## Show Confusion Matrix"
			]
		},
		{
			"cell_type": "code",
			"execution_count": null,
			"id": "117503c1",
			"metadata": {
				"collapsed": false,
				"pycharm": {
					"name": "#%%\n"
				}
			},
			"outputs": [],
			"source": [
				"import matplotlib.pyplot as pyplot\n",
				"fig, axs = pyplot.subplots(2, figsize=(15, 15))\n",
				"for i, confusion_matrix in enumerate(confusion_matrices):\n",
				"    overall_accuracy = confusion_matrix.trace() / confusion_matrix.sum()\n",
				"    average_accuracy = (\n",
				"        confusion_matrix.diagonal() / confusion_matrix.sum(axis=1)\n",
				"    ).mean()\n",
				"    confusion_matrix_display = metrics.ConfusionMatrixDisplay(\n",
				"        confusion_matrix=confusion_matrix\n",
				"    )\n",
				"    confusion_matrix_display.plot(ax=axs[i])\n",
				"    axs[i].set_title(i)\n",
				"\n",
				"    print(\"Overall accuracy {}: {:.2f}%\".format(i, overall_accuracy * 100))\n",
				"    print(\"Average accuracy {}: {:.2f}%\".format(i, average_accuracy * 100))\n",
				"\n",
				"pyplot.show()"
			]
		}
	],
	"metadata": {
		"kernelspec": {
			"display_name": "Python 3 (ipykernel)",
			"language": "python",
			"name": "python3"
		},
		"language_info": {
			"codemirror_mode": {
				"name": "ipython",
				"version": 3
			},
			"file_extension": ".py",
			"mimetype": "text/x-python",
			"name": "python",
			"nbconvert_exporter": "python",
			"pygments_lexer": "ipython3",
			"version": "3.11.3"
		}
	},
	"nbformat": 4,
	"nbformat_minor": 5
}
